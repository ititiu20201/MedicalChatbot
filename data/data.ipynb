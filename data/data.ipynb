{
 "cells": [
  {
   "cell_type": "code",
   "execution_count": 1,
   "id": "18676adc",
   "metadata": {},
   "outputs": [
    {
     "name": "stdout",
     "output_type": "stream",
     "text": [
      "\n",
      "\u001b[1m[\u001b[0m\u001b[34;49mnotice\u001b[0m\u001b[1;39;49m]\u001b[0m\u001b[39;49m A new release of pip is available: \u001b[0m\u001b[31;49m24.3.1\u001b[0m\u001b[39;49m -> \u001b[0m\u001b[32;49m25.2\u001b[0m\n",
      "\u001b[1m[\u001b[0m\u001b[34;49mnotice\u001b[0m\u001b[1;39;49m]\u001b[0m\u001b[39;49m To update, run: \u001b[0m\u001b[32;49mpip install --upgrade pip\u001b[0m\n",
      "Note: you may need to restart the kernel to use updated packages.\n"
     ]
    }
   ],
   "source": [
    "# --- Cell 1: Cài đặt thư viện cần thiết ---\n",
    "%pip install datasets pandas -q\n"
   ]
  },
  {
   "cell_type": "code",
   "execution_count": 2,
   "id": "460f7bca",
   "metadata": {},
   "outputs": [
    {
     "name": "stderr",
     "output_type": "stream",
     "text": [
      "/Library/Frameworks/Python.framework/Versions/3.10/lib/python3.10/site-packages/tqdm/auto.py:21: TqdmWarning: IProgress not found. Please update jupyter and ipywidgets. See https://ipywidgets.readthedocs.io/en/stable/user_install.html\n",
      "  from .autonotebook import tqdm as notebook_tqdm\n"
     ]
    }
   ],
   "source": [
    "# --- Cell 2: Import thư viện ---\n",
    "from datasets import load_dataset\n",
    "import pandas as pd"
   ]
  },
  {
   "cell_type": "code",
   "execution_count": 8,
   "id": "910c9b34",
   "metadata": {},
   "outputs": [
    {
     "name": "stdout",
     "output_type": "stream",
     "text": [
      "DatasetDict({\n",
      "    train: Dataset({\n",
      "        features: ['name', 'description', 'causes', 'symptoms', 'contagion', 'risk_subjects', 'prevention', 'diagnosis', 'treatment'],\n",
      "        num_rows: 673\n",
      "    })\n",
      "})\n"
     ]
    }
   ],
   "source": [
    "# --- Cell 3: Tải dataset từ Hugging Face ---\n",
    "ds = load_dataset(\"Oztobuzz/Vinmec_diseases_information\")\n",
    "\n",
    "# Hiển thị thông tin dataset (các split, số mẫu, cột dữ liệu)\n",
    "print(ds)"
   ]
  },
  {
   "cell_type": "code",
   "execution_count": 9,
   "id": "2b4aa630",
   "metadata": {},
   "outputs": [
    {
     "name": "stdout",
     "output_type": "stream",
     "text": [
      "Ví dụ 1: {'name': 'Áp xe', 'description': 'Áp xe là gì? Áp xe là tên gọi của một tổ chức viêm nhiễm, khu trú thành một khối mềm, bên trong chứa đầy mủ cấu tạo từ vi khuẩn, xác bạch cầu và các mảnh vụn. Áp xe dễ dàng được nhận diện trên lâm sàng với các đặc điểm sau: là một khối mềm, lùng nhùng, da vùng áp xe thường nóng, đỏ, sưng nề, chạm vào thấy đau. Một số triệu chứng khác có thể thấy trên lâm sàng tùy thuộc vào vị trí của các ổ áp xe. Áp xe có thể hình thành ở khắp các vùng trên của cơ thể. Chia làm 2 nhóm chính: Áp xe ở mô dưới da: ổ mụn nhọt, hậu bối là hình thái phổ biến nhất. Vị trí thường gặp nhất là nách do lỗ chân lông bị nhiễm trùng, âm đạo do các tuyến ở cửa âm đạo bị nhiễm trùng, da vùng xương cùng cụt gây nên áp xe nếp lằn mông, quanh răng gây nên áp xe răng. Áp xe bên trong cơ thể: các ổ áp xe thỉnh thoảng hình thành bên trong cơ thể, ngay tại mô của các cơ quan như áp xe gan, áp xe não, áp xe thận, áp xe vú,… hoặc tại khoảng kẻ giữa chúng.', 'causes': 'Nhiễm trùng là nguyên nhân trực tiếp phổ biến nhất gây ra áp xe. Các tác nhân nhiễm trùng gây bệnh bao gồm:  Vi khuẩn: vi khuẩn xâm nhập vào mô dưới da hoặc các tuyến bài tiết, gây nên phản ứng viêm, hoạt hóa các chất hóa học trung gian và các tế bào bạch cầu. Sự tắc nghẽn chất tiết của các tuyến mồ hôi, tuyến bã là điều kiện thuận lợi cho vi khuẩn xâm nhập và phát triển. Quá trình hệ miễn dịch cơ thể chống lại vi khuẩn sinh ra một chất lỏng gọi là mủ, chứa nhiều vi khuẩn và xác bạch cầu. Staphylococcus aureus là loại vi khuẩn chiếm tỷ lệ cao nhất ở nhiều khu vực trên thế giới, gây áp xe dưới da, áp xe màng cứng cột sống.  Ký sinh trùng: tác nhân này thường gặp ở các nước đang phát triển hơn, có thể kể đến các loại như giun chỉ, sán lá gan, giòi,… Chúng thường gây áp xe bên trong các tạng của cơ thể như áp xe gan do sán lá gan.', 'symptoms': 'Biểu hiện lâm sàng của áp xe khá đặc hiệu, bao gồm:  Áp xe nông dưới da: quan sát thấy một khối phồng, da bao phủ lên ổ áp xe đỏ, sưng nề vùng da xung quanh, khi sờ vào có cảm giác nóng, đau, lùng nhùng do chứa mủ bên trong. Triệu chứng đau gặp trong áp xe là do áp lực trong khối áp xe tăng. Khi nhiễm trùng lan rộng ra các mô sâu hơn, người bệnh có thể có sốt, mệt mỏi.  Áp xe bên trong cơ thể: được phân loại áp xe sâu. Bệnh nhân gặp phải có triệu chứng toàn thân như sốt cao, rét run, ớn lạnh, môi khô, lưỡi bẩn. Toàn thân mệt mỏi, suy kiệt, hốc hác. Tùy theo vị trí của ổ áp xe, trên lâm sàng có thể gặp phải các triệu chứng khác như sốt cao rét run, đau tức vùng hạ sườn phải trong áp xe gan.', 'contagion': 'Áp xe có thể được lây truyền do tác nhân gây bệnh lây lan từ người bệnh sang người lành. Đường lây truyền cụ thể thay đổi tùy theo từng nguyên nhân cụ thể.', 'risk_subjects': 'Những người có các đặc điểm sau có khả năng hình thành các khối áp xe cao hơn những người khác:  Điều kiện sống thiếu vệ sinh  Thường xuyên tiếp xúc với người bị nhiễm trùng da  Người gầy còm, suy kiệt, sức đề kháng kém  Nghiện rượu, ma túy  Mắc các bệnh như đái tháo đường, ung thư, AIDS, viêm loét đại tràng, bệnh Crohn  Các bệnh về máu như bệnh hồng cầu hình liềm, bệnh bạch cầu  Chấn thương nặng  Sử dụng corticoid kéo dài, các thuốc tiêm tĩnh mạch  Đang trong liệu trình hóa trị', 'prevention': 'Áp xe có thể được phòng ngừa bằng các biện pháp sau:  Nâng cao, cải thiện môi trường sống  Giữ gìn vệ sinh cá nhân tốt  Ăn uống đầy đủ chất dinh dưỡng  Thường xuyên luyện tập thể dục thể thao  Xây dựng lối sống lành mạnh, tăng cường hệ miễn dịch  Thường xuyên rửa tay bằng xà phòng, đặc biệt sau khi tiếp xúc với người bệnh hoặc chất thải của người bệnh.  Không lạm dụng rượu và sử dụng ma túy  Tuân thủ điều trị tốt các bệnh lý nhiễm khuẩn, các bệnh lý toàn thân như đái tháo đường  Đến gặp bác sĩ khi có các triệu chứng bất thường, không được tự ý điều trị, tránh để tổn thương lan rộng và nặng nề hơn.', 'diagnosis': 'Chẩn đoán áp xe mô dưới da thường được thực hiện dễ dàng thông qua việc thăm khám lâm sàng với các biểu hiện sưng, nóng, đỏ, đau vùng da che phủ khối áp xe. Đối với áp xe bên trong cơ thể hay áp xe nội, các triệu chứng lâm sàng như sốt cao, rét run, đau tức vùng chứa khối áp xe chỉ mang tính chất gợi ý. Việc chẩn đoán xác định cần có sự hỗ trợ của các xét nghiệm cận lâm sàng và phương tiện chẩn đoán hình ảnh, bao gồm:  Công thức máu: bạch cầu tăng cao, ưu thế bạch cầu đa nhân trung tính  Xét nghiệm thể hiện phản ứng viêm trong cơ thể: tốc độ lắng máu, fibrinogen và globulin tăng cao. Định lượng Protein C phản ứng  (CRP) là một xét nghiệm có độ chính xác cao, cho phép phát hiện tình trạng viêm, nhiễm trùng trong cơ thể sớm hơn.  Cấy máu dương tính  Siêu âm rất có ích trong các trường hợp áp xe sâu như áp xe ở gan, mật, cơ đùi, cơ thắt lưng  CT scan, MRI phát hiện hình ảnh các ổ áp xe ở các cơ quan như áp xe gan, phổi  Chọc dò dịch, hút mủ làm xét nghiệm  Sinh thiết tổn thương Chẩn đoán áp xe mô dưới da thường được thực hiện dễ dàng thông qua việc thăm khám lâm sàng với các biểu hiện sưng, nóng, đỏ, đau vùng da che phủ khối áp xe. Đối với áp xe bên trong cơ thể hay áp xe nội, các triệu chứng lâm sàng như sốt cao, rét run, đau tức vùng chứa khối áp xe chỉ mang tính chất gợi ý. Việc chẩn đoán xác định cần có sự hỗ trợ của các xét nghiệm cận lâm sàng và phương tiện chẩn đoán hình ảnh, bao gồm:  Công thức máu: bạch cầu tăng cao, ưu thế bạch cầu đa nhân trung tính  Xét nghiệm thể hiện phản ứng viêm trong cơ thể: tốc độ lắng máu, fibrinogen và globulin tăng cao. Định lượng Protein C phản ứng  viêm, nhiễm trùng trong cơ thể sớm hơn.  Cấy máu dương tính  Siêu âm rất có ích trong các trường hợp áp xe sâu như áp xe ở gan, mật, cơ đùi, cơ thắt lưng  CT scan, MRI phát hiện hình ảnh các ổ áp xe ở các cơ quan như áp xe gan, phổi  Chọc dò dịch, hút mủ làm xét nghiệm  Sinh thiết tổn thương  (CRP) là một xét nghiệm có độ chính xác cao, cho phép phát hiện tình trạng', 'treatment': 'Một tổ chức áp xe nếu không được điều trị sẽ tiến triển nặng dần lên với tăng kích thước, đau nhiều hơn, xâm lấn rộng ra các mô xung quanh, cuối cùng có thể vỡ. Áp xe ở mô dưới da có thể vỡ ra da và chảy mủ ra bên ngoài, một số trường hợp còn tạo ra đường dò, phá hủy một vùng mô sâu rộng, gây khó khăn cho việc điều trị sau này. Các khối áp xe trong cơ thể cũng có thể vỡ vào ổ phúc mạc, gây viêm phúc mạc khu trú hoặc toàn thể, nặng hơn có thể dẫn tới nhiễm trùng máu. Việc điều trị áp xe phụ thuộc vào nhiều yếu tố, trong đó quan trọng nhất là phân loại áp xe nông hay áp xe mô dưới da và áp xe sâu bên trong các cơ quan.  Đối với các ổ áp xe mô dưới da, biện pháp điều trị hiệu quả là rạch dẫn lưu mủ ra ngoài. Một số nghiên cứu chứng minh việc sử dụng kết hợp thêm với thuốc kháng sinh không mang lại hiệu quả. Khi hết chảy dịch, bác sĩ có thể chèn gạc để cầm máu và băng vết thương. Một số các trường hợp áp xe nông nhỏ có thể tự chảy dịch và khô lại mà không cần can thiệp gì. Thuốc giảm đau thông thường như paracetamol, aspirin có thể được chỉ định ở các bệnh nhân nhạy cảm.  Đối với các ổ áp xe sâu, can thiệp ngoại khoa như rạch, dẫn lưu ổ áp xe cần phối hợp với thuốc kháng sinh. Thuốc kháng sinh nên được sử dụng theo kết quả kháng sinh đồ, sử dụng sớm và đủ liều. Việc rạch dẫn lưu mủ thường được thực hiện dưới sự hướng dẫn của các phương tiện chẩn đoán hình ảnh như siêu âm. Điều trị các triệu chứng như sốt, đau và nâng cao thể trạng, bù nước và điện giải cũng cần được tiến hành song song.  Cần loại bỏ dị vật bên trong ổ áp xe nếu có. \\xa0 Xem thêm: Những điều cần biết về xét nghiệm công thức máu Áp xe vú: Nguyên nhân, triệu chứng, chẩn đoán và điều trị Áp xe hậu môn: Nguyên nhân, triệu chứng, chẩn đoán và điều trị'}\n",
      "Ví dụ 2: {'name': 'Áp xe vú', 'description': 'Áp xe vú là tình trạng viêm, sưng đỏ, có hạch ấn đau và tích tụ dịch mủ do vi khuẩn gây ra. Vi khuẩn gây bệnh có thể xâm nhập trực tiếp vào tuyến vú qua các ống dẫn sữa hoặc các vết xây xát ở núm vú và quầng vú hoặc từ đường toàn thân qua các ổ nhiễm khuẩn hoặc nhiễm trùng huyết Áp xe vú thường gặp nhiều ở phụ nữ hơn, đặc biệt là trong thời kỳ sau sinh và cho con bú Áp xe vú rất nguy hiểm ở giai đoạn đã tạo thành áp xe khi người bệnh phải chịu những thương tổn nặng nề ở vùng da và biểu hiện nhiễm trùng toàn thân. Nếu không được \\xa0điều trị kịp thời tuyến vú có thể mất chức năng tiết sữa, hoại tử, nặng hơn có thể có biến chứng nhiễm trùng huyết, suy thận hoặc hoại tử chi', 'causes': 'Nguyên nhân áp xe vú thường gặp nhất là do hai loại vi khuẩn Staphylococcus aureus và Streptococcus Ngoài ra vi khuẩn kỵ khí, trực khuẩn thương hàn và tắc nghẽn ống dẫn ở núm vú do sẹo cũng có thể gây nên áp xe vú', 'symptoms': 'Dấu hiệu áp xe vú phụ thuộc vào vị trí bị áp xe, giai đoạn bệnh và các yếu tố khác. Áp xe vú chủ yếu có 2 giai đoạn: giai đoạn khởi phát và giai đoạn tạo thành áp xe Giai đoạn đầu của áp xe vú thường có triệu chứng: Khởi phát đột ngột với sốt cao, mệt mỏi, mất ngủ Đau nhức sâu trong tuyến vú Vùng da bên ngoài có thể bình thường nếu ổ viêm ở sâu bên trong tuyến vú Nếu ổ viêm nằm ngay bề mặt tuyến vú sẽ khiến vùng da nóng đỏ và sưng Giai đoạn tạo thành áp xe các triệu chứng sẽ tăng mạnh lên: Vùng da trên ổ áp xe trở nên nóng, căng và sưng đỏ Ngoài ra các triệu chứng nhiễm khuẩn cũng biểu hiện rõ ràng hơn: sốt cao, ớn lạnh, buồn nôn, ói,…', 'contagion': 'no_information', 'risk_subjects': 'Có từ 10-30% phụ nữ sau khi mang thai và cho con bú bị áp xe vú Những phụ nữ thừa cân, có ngực lớn hoặc không giữ gìn vệ sinh cá nhân cũng là đối tượng nguy cơ Người mẹ đang cho con bú có nguy cơ bị áp xe vú nếu có những yếu tố như: Cho con bú không đúng cách Cho bú không đủ số lần và không đủ thời gian khiến sữa bị tích tụ trong vú Mặc áo ngực quá chật Núm vú bị trầy xước khi cho bú Tắc tuyến sữa', 'prevention': 'Biện pháp để phòng ngừa áp xe vú cần chú ý: Giữ lối sống lành mạnh: nghỉ ngơi, uống nhiều nước và ăn các thực phẩm giàu dinh dưỡng Giữ vệ sinh cá nhân sạch sẽ Đối với bà mẹ cho con bú cần thực hiện: Mát xa nhẹ nhàng bầu vú để ống dẫn sữa thông thoáng và cho con bú sớm ngay sau sinh, bú thường xuyên và đúng tư thế Vệ sinh núm vú đúng cách và sạch sẽ trước và sau khi cho bú Cho trẻ bú hết sữa và luân phiên hai bên vú, vắt sạch sữa sau khi cho bú xong Nếu có tắc tia sữa cần điều trị ngay để tránh tắc tuyến sữa dẫn đến áp xe vú Tránh làm nứt hoặc xước núm vú tạo điều kiện cho vi khuẩn xâm nhập làm viêm tuyến sữa là yếu tố nguy cơ áp xe vú Không cai sữa sớm, khi cai cần giảm từ từ số lượng và số cữ bú', 'diagnosis': 'Chẩn đoán áp xe vú thông qua các dấu hiệu áp xe và cả các xét nghiệm cần thiết: Bệnh nhân có biểu hiện nhiễm trùng toàn thân: sốt, mệt mỏi, môi khô, lưỡi bẩn,… Vú sưng, nóng đỏ, đau khi thăm khám thấy các nhân mềm và có ổ chứa dịch ấn lõm Siêu âm vú có nhiều ổ chứa dịch Xét nghiệm công thức máu có bạch cầu trung tính tăng Xét nghiệm CRP (C-reactive protein) dương tính', 'treatment': 'Điều trị áp xe vú có thể sử dụng thuốc và chích rạch cùng với chế độ chăm sóc tốt của người bệnh: Cần nghỉ ngơi nhiều, không cho con bú bên áp xe Nên ăn các thức ăn mềm, dễ tiêu hóa nhưng đảm bảo dinh dưỡng để phục hồi sức khỏe Chỉ cho bú bên không áp xe hoặc vắt sữa để tránh nhiễm khuẩn cho cả em bé Xoa bóp nhẹ nhàng, chườm nóng và vắt bỏ sữa để hỗ trợ thông tuyến sữa Sử dụng thuốc kháng sinh, kháng viêm, giảm đau theo đúng chỉ định của bác sĩ Trong trường hợp uống thuốc không thể điều trị triệt để bệnh thì bên vú áp xe có thể được trích rạch nhằm giải phóng lượng mủ nhưng chỉ thực hiện với vùng áp xe nông. Sau khi tháo mủ sẽ đặt ống dẫn lưu để bơm rửa các ổ dịch bằng dung dịch sát khuẩn và dùng thuốc kháng sinh toàn thân. Xem thêm: Bệnh áp xe vú có nguy hiểm không? Dấu hiệu và nguyên nhân viêm vú Tắc tia sữa: Nguyên nhân, triệu chứng, chẩn đoán và điều trị'}\n"
     ]
    }
   ],
   "source": [
    "\n",
    "# --- Cell 4: Xem thử một vài mẫu dữ liệu ---\n",
    "print(\"Ví dụ 1:\", ds['train'][0])\n",
    "print(\"Ví dụ 2:\", ds['train'][1])"
   ]
  },
  {
   "cell_type": "code",
   "execution_count": 10,
   "id": "03cb84d1",
   "metadata": {},
   "outputs": [
    {
     "name": "stdout",
     "output_type": "stream",
     "text": [
      "Kích thước DataFrame: (673, 9)\n",
      "            name                                        description  \\\n",
      "0          Áp xe  Áp xe là gì? Áp xe là tên gọi của một tổ chức ...   \n",
      "1       Áp xe vú  Áp xe vú là tình trạng viêm, sưng đỏ, có hạch ...   \n",
      "2  Áp xe hậu môn  Áp xe hậu môn là tình trạng mưng mủ ở gần khu ...   \n",
      "3     Áp xe phổi  Bệnh áp xe phổi là bệnh lý nhiễm trùng tại phổ...   \n",
      "4      Alzheimer  Bệnh Alzheimer là một trong những căn bệnh về ...   \n",
      "\n",
      "                                              causes  \\\n",
      "0  Nhiễm trùng là nguyên nhân trực tiếp phổ biến ...   \n",
      "1  Nguyên nhân áp xe vú thường gặp nhất là do hai...   \n",
      "2  Có rất nhiều nguyên nhân dẫn đến áp xe hậu môn...   \n",
      "3  Nguyên nhân gây bệnh áp xe phổi có thể chia th...   \n",
      "4  Hiện nay vẫn chưa xác định nguyên nhân gây ra ...   \n",
      "\n",
      "                                            symptoms  \\\n",
      "0  Biểu hiện lâm sàng của áp xe khá đặc hiệu, bao...   \n",
      "1  Dấu hiệu áp xe vú phụ thuộc vào vị trí bị áp x...   \n",
      "2  Triệu chứng phổ biến nhất của áp-xe hậu môn là...   \n",
      "3  Triệu chứng lâm sàng của bệnh áp xe phổi thườn...   \n",
      "4  Bệnh alzheimer có các dấu hiệu, triệu chứng bệ...   \n",
      "\n",
      "                                           contagion  \\\n",
      "0  Áp xe có thể được lây truyền do tác nhân gây b...   \n",
      "1                                     no_information   \n",
      "2                                     no_information   \n",
      "3  Áp xe phổi có lây không? Áp xe phổi có thể lây...   \n",
      "4                                     no_information   \n",
      "\n",
      "                                       risk_subjects  \\\n",
      "0  Những người có các đặc điểm sau có khả năng hì...   \n",
      "1  Có từ 10-30% phụ nữ sau khi mang thai và cho c...   \n",
      "2                                     no_information   \n",
      "3  Các yếu tố làm tăng nguy cơ mắc bệnh áp xe phổ...   \n",
      "4  Là một căn bệnh khá phổ biến, bệnh alzheimer t...   \n",
      "\n",
      "                                          prevention  \\\n",
      "0  Áp xe có thể được phòng ngừa bằng các biện phá...   \n",
      "1  Biện pháp để phòng ngừa áp xe vú cần chú ý: Gi...   \n",
      "2  Nếu được điều trị và chăm sóc phù hợp, người b...   \n",
      "3  Các biện pháp giúp phòng ngừa và hạn chế diễn ...   \n",
      "4  Để phòng ngừa bệnh Alzheimer, có thể áp dụng c...   \n",
      "\n",
      "                                           diagnosis  \\\n",
      "0  Chẩn đoán áp xe mô dưới da thường được thực hi...   \n",
      "1  Chẩn đoán áp xe vú thông qua các dấu hiệu áp x...   \n",
      "2  Chẩn đoán áp xe hậu môn thông thường nhất kiểm...   \n",
      "3  Việc chẩn đoán áp xe phổi cần phối hợp giữa cá...   \n",
      "4  Để chuẩn đoán bệnh nhân có bị bệnh Alzheimer k...   \n",
      "\n",
      "                                           treatment  \n",
      "0  Một tổ chức áp xe nếu không được điều trị sẽ t...  \n",
      "1  Điều trị áp xe vú có thể sử dụng thuốc và chíc...  \n",
      "2  Khi khối mủ vùng hậu môn vỡ, người bệnh cần đư...  \n",
      "3  Điều trị bệnh áp xe phổi cần sự phối hợp của n...  \n",
      "4  Hiện nay, vẫn chưa có phương pháp để điều trị ...  \n"
     ]
    }
   ],
   "source": [
    "# --- Cell 5: Chuyển sang DataFrame để dễ thao tác ---\n",
    "df = pd.DataFrame(ds['train'])\n",
    "print(\"Kích thước DataFrame:\", df.shape)\n",
    "print(df.head())"
   ]
  },
  {
   "cell_type": "code",
   "execution_count": 12,
   "id": "540fa8ce",
   "metadata": {},
   "outputs": [
    {
     "name": "stdout",
     "output_type": "stream",
     "text": [
      "✅ Đã lưu file Vinmec_diseases_information.csv\n"
     ]
    }
   ],
   "source": [
    "# --- Cell 6: Lưu dataset ra file CSV ---\n",
    "df.to_csv(\"Vinmec_diseases_information.csv\", index=False)\n",
    "print(\"✅ Đã lưu file Vinmec_diseases_information.csv\")"
   ]
  },
  {
   "cell_type": "code",
   "execution_count": 4,
   "id": "3fec7649",
   "metadata": {},
   "outputs": [
    {
     "name": "stdout",
     "output_type": "stream",
     "text": [
      "✅ Đã thêm dấu ngoặc kép vào cột label và lưu thành clean_data_1_quoted.csv\n"
     ]
    }
   ],
   "source": [
    "import pandas as pd\n",
    "\n",
    "# Đọc file CSV gốc\n",
    "df = pd.read_csv(\"clean_data_1.csv\")\n",
    "\n",
    "# Thêm dấu ngoặc kép quanh giá trị cột 'label'\n",
    "df['label'] = df['label'].apply(lambda x: f'[\"{x}\"]')\n",
    "\n",
    "# Lưu lại ra file CSV mới\n",
    "df.to_csv(\"clean_data_1_quoted.csv\", index=False)\n",
    "\n",
    "print(\"✅ Đã thêm dấu ngoặc kép vào cột label và lưu thành clean_data_1_quoted.csv\")\n"
   ]
  },
  {
   "cell_type": "code",
   "execution_count": 4,
   "id": "26ca489b",
   "metadata": {},
   "outputs": [
    {
     "name": "stdout",
     "output_type": "stream",
     "text": [
      "✅ Đã lưu your_file_clean.csv\n"
     ]
    }
   ],
   "source": [
    "import pandas as pd\n",
    "import ast, json\n",
    "\n",
    "# 1) Đọc dữ liệu\n",
    "df = pd.read_csv(\"/Users/dinhquanghien/Documents/Học tập/pre_2/data/medical_chat_dataset.csv\")  # đổi tên file cho đúng\n",
    "\n",
    "assert 'labels' in df.columns, f\"Các cột hiện có: {df.columns.tolist()}\"\n",
    "\n",
    "# 2) Parse 'labels' từ chuỗi -> list an toàn\n",
    "def parse_labels(s):\n",
    "    # Một số dòng có thể là NaN hoặc rỗng\n",
    "    if pd.isna(s):\n",
    "        return []\n",
    "    s = str(s).strip()\n",
    "    try:\n",
    "        x = ast.literal_eval(s)  # an toàn hơn eval\n",
    "        # đảm bảo là list các chuỗi\n",
    "        if isinstance(x, list):\n",
    "            return [str(t).strip().strip('\"').strip(\"'\") for t in x]\n",
    "        return [str(x)]\n",
    "    except Exception:\n",
    "        # nếu parse lỗi, giữ nguyên dưới dạng một nhãn\n",
    "        return [s]\n",
    "\n",
    "df['labels_list'] = df['labels'].apply(parse_labels)\n",
    "\n",
    "# 3) Chuẩn hoá: bỏ trùng, bỏ khoảng trắng thừa, giữ thứ tự xuất hiện\n",
    "def dedup_keep_order(xs):\n",
    "    seen, out = set(), []\n",
    "    for t in xs:\n",
    "        if t not in seen:\n",
    "            seen.add(t)\n",
    "            out.append(t)\n",
    "    return out\n",
    "\n",
    "df['labels_list'] = df['labels_list'].apply(dedup_keep_order)\n",
    "\n",
    "# 4) Ghi lại cột 'labels' ở dạng JSON (dùng ngoặc kép chuẩn)\n",
    "df['labels'] = df['labels_list'].apply(lambda xs: json.dumps(xs, ensure_ascii=False))\n",
    "\n",
    "# 5) (tuỳ chọn) nếu bạn cần cột 1-nhãn tên 'label' (khi chỉ có 1 nhãn)\n",
    "df['label'] = df['labels_list'].apply(lambda xs: xs[0] if len(xs)==1 else None)\n",
    "\n",
    "# 6) Lưu ra file mới\n",
    "df.drop(columns=['labels_list']).to_csv(\"your_file_clean.csv\", index=False)\n",
    "print(\"✅ Đã lưu your_file_clean.csv\")\n"
   ]
  },
  {
   "cell_type": "code",
   "execution_count": 1,
   "id": "e9006cae",
   "metadata": {},
   "outputs": [
    {
     "name": "stdout",
     "output_type": "stream",
     "text": [
      "✅ Đã trích 86 nhãn duy nhất.\n",
      "- labels.json  -> /Users/dinhquanghien/Documents/Học tập/pre_2/labels.json\n",
      "- id2label.json & label2id.json đã được tạo kèm.\n"
     ]
    }
   ],
   "source": [
    "# make_labels.py\n",
    "import pandas as pd\n",
    "import ast\n",
    "import json\n",
    "import math\n",
    "import unicodedata\n",
    "from pathlib import Path\n",
    "\n",
    "CSV_PATH = \"medical_chat_dataset.csv\"   # <-- đổi thành tên file CSV của bạn\n",
    "OUT_DIR = Path(\".\")\n",
    "\n",
    "def normalize_label(lbl: str) -> str:\n",
    "    # Chuẩn hoá unicode + loại bỏ khoảng trắng/ngoặc thừa\n",
    "    s = str(lbl).strip().strip('\"').strip(\"'\")\n",
    "    s = unicodedata.normalize(\"NFC\", s)\n",
    "    return s\n",
    "\n",
    "def parse_labels_cell(x):\n",
    "    \"\"\"Trả về list[str] các nhãn trong 1 ô 'labels'.\"\"\"\n",
    "    if x is None or (isinstance(x, float) and math.isnan(x)):\n",
    "        return []\n",
    "    if isinstance(x, list):\n",
    "        return [normalize_label(t) for t in x]\n",
    "\n",
    "    s = str(x).strip()\n",
    "    # Kỳ vọng dạng \"['A', 'B']\" -> dùng ast.literal_eval cho an toàn\n",
    "    try:\n",
    "        val = ast.literal_eval(s)\n",
    "        if isinstance(val, (list, tuple)):\n",
    "            return [normalize_label(t) for t in val]\n",
    "        # Nếu lỡ là string đơn lẻ thì bọc thành list\n",
    "        return [normalize_label(val)]\n",
    "    except Exception:\n",
    "        # Fallback: coi như một nhãn đơn\n",
    "        return [normalize_label(s)]\n",
    "\n",
    "def main():\n",
    "    df = pd.read_csv(CSV_PATH, encoding=\"utf-8-sig\")\n",
    "    if \"labels\" not in df.columns:\n",
    "        raise ValueError(\"Không thấy cột 'labels' trong CSV!\")\n",
    "\n",
    "    # Trích tất cả nhãn theo thứ tự xuất hiện (giữ thứ tự, khử trùng lặp)\n",
    "    seen = set()\n",
    "    ordered_labels = []\n",
    "    for labels_cell in df[\"labels\"].tolist():\n",
    "        labels = parse_labels_cell(labels_cell)\n",
    "        for lbl in labels:\n",
    "            if lbl and lbl not in seen:\n",
    "                seen.add(lbl)\n",
    "                ordered_labels.append(lbl)\n",
    "\n",
    "    # Lưu labels.json (danh sách nhãn)\n",
    "    labels_path = OUT_DIR / \"labels.json\"\n",
    "    with open(labels_path, \"w\", encoding=\"utf-8\") as f:\n",
    "        json.dump(ordered_labels, f, ensure_ascii=False, indent=2)\n",
    "\n",
    "    # Tuỳ chọn: lưu thêm mapping\n",
    "    id2label = {i: lbl for i, lbl in enumerate(ordered_labels)}\n",
    "    label2id = {lbl: i for i, lbl in enumerate(ordered_labels)}\n",
    "\n",
    "    with open(OUT_DIR / \"id2label.json\", \"w\", encoding=\"utf-8\") as f:\n",
    "        json.dump({str(k): v for k, v in id2label.items()}, f, ensure_ascii=False, indent=2)\n",
    "\n",
    "    with open(OUT_DIR / \"label2id.json\", \"w\", encoding=\"utf-8\") as f:\n",
    "        json.dump(label2id, f, ensure_ascii=False, indent=2)\n",
    "\n",
    "    print(f\"✅ Đã trích {len(ordered_labels)} nhãn duy nhất.\")\n",
    "    print(f\"- labels.json  -> {labels_path.resolve()}\")\n",
    "    print(f\"- id2label.json & label2id.json đã được tạo kèm.\")\n",
    "\n",
    "if __name__ == \"__main__\":\n",
    "    main()\n"
   ]
  }
 ],
 "metadata": {
  "kernelspec": {
   "display_name": "Python 3",
   "language": "python",
   "name": "python3"
  },
  "language_info": {
   "codemirror_mode": {
    "name": "ipython",
    "version": 3
   },
   "file_extension": ".py",
   "mimetype": "text/x-python",
   "name": "python",
   "nbconvert_exporter": "python",
   "pygments_lexer": "ipython3",
   "version": "3.10.10"
  }
 },
 "nbformat": 4,
 "nbformat_minor": 5
}
