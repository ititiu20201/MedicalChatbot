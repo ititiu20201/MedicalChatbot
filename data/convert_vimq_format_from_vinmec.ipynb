{
 "cells": [
  {
   "cell_type": "markdown",
   "id": "7a1e8df9",
   "metadata": {},
   "source": [
    "# 🧠 Notebook: Chuyển dữ liệu Vinmec sang định dạng ViMQ\n",
    "Notebook này giúp bạn tự động sinh tập dữ liệu ViMQ từ file CSV gốc `Vinmec_diseases_information.csv`."
   ]
  },
  {
   "cell_type": "code",
   "execution_count": 1,
   "id": "45058a1f",
   "metadata": {},
   "outputs": [
    {
     "name": "stdout",
     "output_type": "stream",
     "text": [
      "\n",
      "\u001b[1m[\u001b[0m\u001b[34;49mnotice\u001b[0m\u001b[1;39;49m]\u001b[0m\u001b[39;49m A new release of pip is available: \u001b[0m\u001b[31;49m24.3.1\u001b[0m\u001b[39;49m -> \u001b[0m\u001b[32;49m25.2\u001b[0m\n",
      "\u001b[1m[\u001b[0m\u001b[34;49mnotice\u001b[0m\u001b[1;39;49m]\u001b[0m\u001b[39;49m To update, run: \u001b[0m\u001b[32;49mpip install --upgrade pip\u001b[0m\n",
      "Note: you may need to restart the kernel to use updated packages.\n"
     ]
    }
   ],
   "source": [
    "%pip install pandas -q"
   ]
  },
  {
   "cell_type": "code",
   "execution_count": 2,
   "id": "d00069ef",
   "metadata": {},
   "outputs": [
    {
     "data": {
      "application/vnd.microsoft.datawrangler.viewer.v0+json": {
       "columns": [
        {
         "name": "index",
         "rawType": "int64",
         "type": "integer"
        },
        {
         "name": "name",
         "rawType": "object",
         "type": "string"
        },
        {
         "name": "description",
         "rawType": "object",
         "type": "string"
        },
        {
         "name": "causes",
         "rawType": "object",
         "type": "string"
        },
        {
         "name": "symptoms",
         "rawType": "object",
         "type": "string"
        },
        {
         "name": "contagion",
         "rawType": "object",
         "type": "string"
        },
        {
         "name": "risk_subjects",
         "rawType": "object",
         "type": "string"
        },
        {
         "name": "prevention",
         "rawType": "object",
         "type": "string"
        },
        {
         "name": "diagnosis",
         "rawType": "object",
         "type": "string"
        },
        {
         "name": "treatment",
         "rawType": "object",
         "type": "string"
        }
       ],
       "ref": "46a6b34c-708f-480d-92ec-5bbf9d06d257",
       "rows": [
        [
         "0",
         "Áp xe",
         "Áp xe là gì? Áp xe là tên gọi của một tổ chức viêm nhiễm, khu trú thành một khối mềm, bên trong chứa đầy mủ cấu tạo từ vi khuẩn, xác bạch cầu và các mảnh vụn. Áp xe dễ dàng được nhận diện trên lâm sàng với các đặc điểm sau: là một khối mềm, lùng nhùng, da vùng áp xe thường nóng, đỏ, sưng nề, chạm vào thấy đau. Một số triệu chứng khác có thể thấy trên lâm sàng tùy thuộc vào vị trí của các ổ áp xe. Áp xe có thể hình thành ở khắp các vùng trên của cơ thể. Chia làm 2 nhóm chính: Áp xe ở mô dưới da: ổ mụn nhọt, hậu bối là hình thái phổ biến nhất. Vị trí thường gặp nhất là nách do lỗ chân lông bị nhiễm trùng, âm đạo do các tuyến ở cửa âm đạo bị nhiễm trùng, da vùng xương cùng cụt gây nên áp xe nếp lằn mông, quanh răng gây nên áp xe răng. Áp xe bên trong cơ thể: các ổ áp xe thỉnh thoảng hình thành bên trong cơ thể, ngay tại mô của các cơ quan như áp xe gan, áp xe não, áp xe thận, áp xe vú,… hoặc tại khoảng kẻ giữa chúng.",
         "Nhiễm trùng là nguyên nhân trực tiếp phổ biến nhất gây ra áp xe. Các tác nhân nhiễm trùng gây bệnh bao gồm:  Vi khuẩn: vi khuẩn xâm nhập vào mô dưới da hoặc các tuyến bài tiết, gây nên phản ứng viêm, hoạt hóa các chất hóa học trung gian và các tế bào bạch cầu. Sự tắc nghẽn chất tiết của các tuyến mồ hôi, tuyến bã là điều kiện thuận lợi cho vi khuẩn xâm nhập và phát triển. Quá trình hệ miễn dịch cơ thể chống lại vi khuẩn sinh ra một chất lỏng gọi là mủ, chứa nhiều vi khuẩn và xác bạch cầu. Staphylococcus aureus là loại vi khuẩn chiếm tỷ lệ cao nhất ở nhiều khu vực trên thế giới, gây áp xe dưới da, áp xe màng cứng cột sống.  Ký sinh trùng: tác nhân này thường gặp ở các nước đang phát triển hơn, có thể kể đến các loại như giun chỉ, sán lá gan, giòi,… Chúng thường gây áp xe bên trong các tạng của cơ thể như áp xe gan do sán lá gan.",
         "Biểu hiện lâm sàng của áp xe khá đặc hiệu, bao gồm:  Áp xe nông dưới da: quan sát thấy một khối phồng, da bao phủ lên ổ áp xe đỏ, sưng nề vùng da xung quanh, khi sờ vào có cảm giác nóng, đau, lùng nhùng do chứa mủ bên trong. Triệu chứng đau gặp trong áp xe là do áp lực trong khối áp xe tăng. Khi nhiễm trùng lan rộng ra các mô sâu hơn, người bệnh có thể có sốt, mệt mỏi.  Áp xe bên trong cơ thể: được phân loại áp xe sâu. Bệnh nhân gặp phải có triệu chứng toàn thân như sốt cao, rét run, ớn lạnh, môi khô, lưỡi bẩn. Toàn thân mệt mỏi, suy kiệt, hốc hác. Tùy theo vị trí của ổ áp xe, trên lâm sàng có thể gặp phải các triệu chứng khác như sốt cao rét run, đau tức vùng hạ sườn phải trong áp xe gan.",
         "Áp xe có thể được lây truyền do tác nhân gây bệnh lây lan từ người bệnh sang người lành. Đường lây truyền cụ thể thay đổi tùy theo từng nguyên nhân cụ thể.",
         "Những người có các đặc điểm sau có khả năng hình thành các khối áp xe cao hơn những người khác:  Điều kiện sống thiếu vệ sinh  Thường xuyên tiếp xúc với người bị nhiễm trùng da  Người gầy còm, suy kiệt, sức đề kháng kém  Nghiện rượu, ma túy  Mắc các bệnh như đái tháo đường, ung thư, AIDS, viêm loét đại tràng, bệnh Crohn  Các bệnh về máu như bệnh hồng cầu hình liềm, bệnh bạch cầu  Chấn thương nặng  Sử dụng corticoid kéo dài, các thuốc tiêm tĩnh mạch  Đang trong liệu trình hóa trị",
         "Áp xe có thể được phòng ngừa bằng các biện pháp sau:  Nâng cao, cải thiện môi trường sống  Giữ gìn vệ sinh cá nhân tốt  Ăn uống đầy đủ chất dinh dưỡng  Thường xuyên luyện tập thể dục thể thao  Xây dựng lối sống lành mạnh, tăng cường hệ miễn dịch  Thường xuyên rửa tay bằng xà phòng, đặc biệt sau khi tiếp xúc với người bệnh hoặc chất thải của người bệnh.  Không lạm dụng rượu và sử dụng ma túy  Tuân thủ điều trị tốt các bệnh lý nhiễm khuẩn, các bệnh lý toàn thân như đái tháo đường  Đến gặp bác sĩ khi có các triệu chứng bất thường, không được tự ý điều trị, tránh để tổn thương lan rộng và nặng nề hơn.",
         "Chẩn đoán áp xe mô dưới da thường được thực hiện dễ dàng thông qua việc thăm khám lâm sàng với các biểu hiện sưng, nóng, đỏ, đau vùng da che phủ khối áp xe. Đối với áp xe bên trong cơ thể hay áp xe nội, các triệu chứng lâm sàng như sốt cao, rét run, đau tức vùng chứa khối áp xe chỉ mang tính chất gợi ý. Việc chẩn đoán xác định cần có sự hỗ trợ của các xét nghiệm cận lâm sàng và phương tiện chẩn đoán hình ảnh, bao gồm:  Công thức máu: bạch cầu tăng cao, ưu thế bạch cầu đa nhân trung tính  Xét nghiệm thể hiện phản ứng viêm trong cơ thể: tốc độ lắng máu, fibrinogen và globulin tăng cao. Định lượng Protein C phản ứng  (CRP) là một xét nghiệm có độ chính xác cao, cho phép phát hiện tình trạng viêm, nhiễm trùng trong cơ thể sớm hơn.  Cấy máu dương tính  Siêu âm rất có ích trong các trường hợp áp xe sâu như áp xe ở gan, mật, cơ đùi, cơ thắt lưng  CT scan, MRI phát hiện hình ảnh các ổ áp xe ở các cơ quan như áp xe gan, phổi  Chọc dò dịch, hút mủ làm xét nghiệm  Sinh thiết tổn thương Chẩn đoán áp xe mô dưới da thường được thực hiện dễ dàng thông qua việc thăm khám lâm sàng với các biểu hiện sưng, nóng, đỏ, đau vùng da che phủ khối áp xe. Đối với áp xe bên trong cơ thể hay áp xe nội, các triệu chứng lâm sàng như sốt cao, rét run, đau tức vùng chứa khối áp xe chỉ mang tính chất gợi ý. Việc chẩn đoán xác định cần có sự hỗ trợ của các xét nghiệm cận lâm sàng và phương tiện chẩn đoán hình ảnh, bao gồm:  Công thức máu: bạch cầu tăng cao, ưu thế bạch cầu đa nhân trung tính  Xét nghiệm thể hiện phản ứng viêm trong cơ thể: tốc độ lắng máu, fibrinogen và globulin tăng cao. Định lượng Protein C phản ứng  viêm, nhiễm trùng trong cơ thể sớm hơn.  Cấy máu dương tính  Siêu âm rất có ích trong các trường hợp áp xe sâu như áp xe ở gan, mật, cơ đùi, cơ thắt lưng  CT scan, MRI phát hiện hình ảnh các ổ áp xe ở các cơ quan như áp xe gan, phổi  Chọc dò dịch, hút mủ làm xét nghiệm  Sinh thiết tổn thương  (CRP) là một xét nghiệm có độ chính xác cao, cho phép phát hiện tình trạng",
         "Một tổ chức áp xe nếu không được điều trị sẽ tiến triển nặng dần lên với tăng kích thước, đau nhiều hơn, xâm lấn rộng ra các mô xung quanh, cuối cùng có thể vỡ. Áp xe ở mô dưới da có thể vỡ ra da và chảy mủ ra bên ngoài, một số trường hợp còn tạo ra đường dò, phá hủy một vùng mô sâu rộng, gây khó khăn cho việc điều trị sau này. Các khối áp xe trong cơ thể cũng có thể vỡ vào ổ phúc mạc, gây viêm phúc mạc khu trú hoặc toàn thể, nặng hơn có thể dẫn tới nhiễm trùng máu. Việc điều trị áp xe phụ thuộc vào nhiều yếu tố, trong đó quan trọng nhất là phân loại áp xe nông hay áp xe mô dưới da và áp xe sâu bên trong các cơ quan.  Đối với các ổ áp xe mô dưới da, biện pháp điều trị hiệu quả là rạch dẫn lưu mủ ra ngoài. Một số nghiên cứu chứng minh việc sử dụng kết hợp thêm với thuốc kháng sinh không mang lại hiệu quả. Khi hết chảy dịch, bác sĩ có thể chèn gạc để cầm máu và băng vết thương. Một số các trường hợp áp xe nông nhỏ có thể tự chảy dịch và khô lại mà không cần can thiệp gì. Thuốc giảm đau thông thường như paracetamol, aspirin có thể được chỉ định ở các bệnh nhân nhạy cảm.  Đối với các ổ áp xe sâu, can thiệp ngoại khoa như rạch, dẫn lưu ổ áp xe cần phối hợp với thuốc kháng sinh. Thuốc kháng sinh nên được sử dụng theo kết quả kháng sinh đồ, sử dụng sớm và đủ liều. Việc rạch dẫn lưu mủ thường được thực hiện dưới sự hướng dẫn của các phương tiện chẩn đoán hình ảnh như siêu âm. Điều trị các triệu chứng như sốt, đau và nâng cao thể trạng, bù nước và điện giải cũng cần được tiến hành song song.  Cần loại bỏ dị vật bên trong ổ áp xe nếu có.   Xem thêm: Những điều cần biết về xét nghiệm công thức máu Áp xe vú: Nguyên nhân, triệu chứng, chẩn đoán và điều trị Áp xe hậu môn: Nguyên nhân, triệu chứng, chẩn đoán và điều trị"
        ],
        [
         "1",
         "Áp xe vú",
         "Áp xe vú là tình trạng viêm, sưng đỏ, có hạch ấn đau và tích tụ dịch mủ do vi khuẩn gây ra. Vi khuẩn gây bệnh có thể xâm nhập trực tiếp vào tuyến vú qua các ống dẫn sữa hoặc các vết xây xát ở núm vú và quầng vú hoặc từ đường toàn thân qua các ổ nhiễm khuẩn hoặc nhiễm trùng huyết Áp xe vú thường gặp nhiều ở phụ nữ hơn, đặc biệt là trong thời kỳ sau sinh và cho con bú Áp xe vú rất nguy hiểm ở giai đoạn đã tạo thành áp xe khi người bệnh phải chịu những thương tổn nặng nề ở vùng da và biểu hiện nhiễm trùng toàn thân. Nếu không được  điều trị kịp thời tuyến vú có thể mất chức năng tiết sữa, hoại tử, nặng hơn có thể có biến chứng nhiễm trùng huyết, suy thận hoặc hoại tử chi",
         "Nguyên nhân áp xe vú thường gặp nhất là do hai loại vi khuẩn Staphylococcus aureus và Streptococcus Ngoài ra vi khuẩn kỵ khí, trực khuẩn thương hàn và tắc nghẽn ống dẫn ở núm vú do sẹo cũng có thể gây nên áp xe vú",
         "Dấu hiệu áp xe vú phụ thuộc vào vị trí bị áp xe, giai đoạn bệnh và các yếu tố khác. Áp xe vú chủ yếu có 2 giai đoạn: giai đoạn khởi phát và giai đoạn tạo thành áp xe Giai đoạn đầu của áp xe vú thường có triệu chứng: Khởi phát đột ngột với sốt cao, mệt mỏi, mất ngủ Đau nhức sâu trong tuyến vú Vùng da bên ngoài có thể bình thường nếu ổ viêm ở sâu bên trong tuyến vú Nếu ổ viêm nằm ngay bề mặt tuyến vú sẽ khiến vùng da nóng đỏ và sưng Giai đoạn tạo thành áp xe các triệu chứng sẽ tăng mạnh lên: Vùng da trên ổ áp xe trở nên nóng, căng và sưng đỏ Ngoài ra các triệu chứng nhiễm khuẩn cũng biểu hiện rõ ràng hơn: sốt cao, ớn lạnh, buồn nôn, ói,…",
         "no_information",
         "Có từ 10-30% phụ nữ sau khi mang thai và cho con bú bị áp xe vú Những phụ nữ thừa cân, có ngực lớn hoặc không giữ gìn vệ sinh cá nhân cũng là đối tượng nguy cơ Người mẹ đang cho con bú có nguy cơ bị áp xe vú nếu có những yếu tố như: Cho con bú không đúng cách Cho bú không đủ số lần và không đủ thời gian khiến sữa bị tích tụ trong vú Mặc áo ngực quá chật Núm vú bị trầy xước khi cho bú Tắc tuyến sữa",
         "Biện pháp để phòng ngừa áp xe vú cần chú ý: Giữ lối sống lành mạnh: nghỉ ngơi, uống nhiều nước và ăn các thực phẩm giàu dinh dưỡng Giữ vệ sinh cá nhân sạch sẽ Đối với bà mẹ cho con bú cần thực hiện: Mát xa nhẹ nhàng bầu vú để ống dẫn sữa thông thoáng và cho con bú sớm ngay sau sinh, bú thường xuyên và đúng tư thế Vệ sinh núm vú đúng cách và sạch sẽ trước và sau khi cho bú Cho trẻ bú hết sữa và luân phiên hai bên vú, vắt sạch sữa sau khi cho bú xong Nếu có tắc tia sữa cần điều trị ngay để tránh tắc tuyến sữa dẫn đến áp xe vú Tránh làm nứt hoặc xước núm vú tạo điều kiện cho vi khuẩn xâm nhập làm viêm tuyến sữa là yếu tố nguy cơ áp xe vú Không cai sữa sớm, khi cai cần giảm từ từ số lượng và số cữ bú",
         "Chẩn đoán áp xe vú thông qua các dấu hiệu áp xe và cả các xét nghiệm cần thiết: Bệnh nhân có biểu hiện nhiễm trùng toàn thân: sốt, mệt mỏi, môi khô, lưỡi bẩn,… Vú sưng, nóng đỏ, đau khi thăm khám thấy các nhân mềm và có ổ chứa dịch ấn lõm Siêu âm vú có nhiều ổ chứa dịch Xét nghiệm công thức máu có bạch cầu trung tính tăng Xét nghiệm CRP (C-reactive protein) dương tính",
         "Điều trị áp xe vú có thể sử dụng thuốc và chích rạch cùng với chế độ chăm sóc tốt của người bệnh: Cần nghỉ ngơi nhiều, không cho con bú bên áp xe Nên ăn các thức ăn mềm, dễ tiêu hóa nhưng đảm bảo dinh dưỡng để phục hồi sức khỏe Chỉ cho bú bên không áp xe hoặc vắt sữa để tránh nhiễm khuẩn cho cả em bé Xoa bóp nhẹ nhàng, chườm nóng và vắt bỏ sữa để hỗ trợ thông tuyến sữa Sử dụng thuốc kháng sinh, kháng viêm, giảm đau theo đúng chỉ định của bác sĩ Trong trường hợp uống thuốc không thể điều trị triệt để bệnh thì bên vú áp xe có thể được trích rạch nhằm giải phóng lượng mủ nhưng chỉ thực hiện với vùng áp xe nông. Sau khi tháo mủ sẽ đặt ống dẫn lưu để bơm rửa các ổ dịch bằng dung dịch sát khuẩn và dùng thuốc kháng sinh toàn thân. Xem thêm: Bệnh áp xe vú có nguy hiểm không? Dấu hiệu và nguyên nhân viêm vú Tắc tia sữa: Nguyên nhân, triệu chứng, chẩn đoán và điều trị"
        ],
        [
         "2",
         "Áp xe hậu môn",
         "Áp xe hậu môn là tình trạng mưng mủ ở gần khu vực hậu môn. Phần lớn áp xe hậu môn là kết quả của nhiễm trùng từ những tuyến hậu môn nhỏ. Bệnh có thể gặp ở bất cứ ai trong độ tuổi nào, ngay cả với trẻ sơ sinh. Loại áp-xe hậu môn phổ biến nhất là áp xe quanh hậu môn. Áp xe quanh hậu môn là tình trạng xuất hiện mủ ở các khoang hoặc lỗ nhỏ trong trực tràng khi bị nhiễm trùng (Trực tràng là phần cuối cùng của ruột già và là nơi phân được trữ trước khi được thải ra ngoài qua ống hậu môn và hậu môn).  Biểu hiện của áp xe quanh hậu môn là sưng đau mưng mủ gần hậu môn. Chỗ đau có thể có màu đỏ và khi chạm vào thấy nóng. Áp xe hậu môn ở trẻ nhỏ là bệnh do vi khuẩn tụ cầu hoặc vi khuẩn đường ruột gram âm gây ra. Các biến chứng của bệnh có thể là: viêm mủ da cạnh hậu môn, áp – xe nang lông, tuyến bã cạnh hậu môn. Các hình thức khác của áp-xe hậu môn nằm ở mô sâu hơn, do đó ít có thể nhìn thấy và rất khó phát hiện kịp thời. Áp xe hậu môn gây ra nhiều khó khăn trong sinh hoạt hàng ngày của người bệnh. Vì thế, nhiều người đã tiến hành điều trị tuy nhiên bệnh vẫn tái phát trở lại, khiến người bệnh không tránh khỏi hoang mang và lo lắng. Áp xe hậu môn tái phát là do:  Dùng thuốc kháng sinh chưa đủ mạnh: thuốc kháng sinh chưa đủ mạnh sẽ không tiêu diệt được vi trùng gây bệnh, nên các mầm bệnh này vẫn tiếp tục phát triển và tạo nên ổ áp xe mới;  Điều trị bệnh bằng bài thuốc dân gian nhưng không kiên trì: Điều trị bệnh bằng các bài thuốc dân gian thường lành tính nhưng thời gian hiệu quả lâu, nên nhiều người bệnh chưa khỏi hoàn toàn đã ngưng sử dụng, làm cho các vi khuẩn có cơ hội phát triển trở lại và gây ra viêm nhiễm, tạo nên các ổ áp xe, gọi là áp xe tái phát;  Chưa đúng quy trình hoặc phương pháp phẫu thuật áp xe: Chưa nạo vét hết ổ áp xe, dịch mủ còn sót đọng lại tại nơi có vết mổ, làm cho tổn thương không thể lành;  Hệ miễn dịch của người bệnh kém, mất khả năng chống lại các vi khuẩn gây bệnh.",
         "Có rất nhiều nguyên nhân dẫn đến áp xe hậu môn:  Nhiễm trùng từ vết nứt hậu môn (vết rách nhỏ trên da của ống hậu môn);  Các bệnh lây truyền qua đường tình dục;  Tuyến hậu môn bị tắc.  Các yếu tố nguy cơ của bệnh áp xe hậu môn: Viêm đại tràng; Viêm ruột như bệnh Crohn hoặc viêm loét đại tràng; Tiểu đường; Viêm túi thừa; Viêm vùng chậu; Nhiễm qua đường tình dục (quan hệ tình dục qua hậu môn); Sử dụng các thuốc như prednison.",
         "Triệu chứng phổ biến nhất của áp-xe hậu môn là tình trạng đau nhói ở hậu môn, đặc biệt là khi ngồi xuống (phần hậu môn tiếp xúc với bề mặt khác). Các dấu hiệu khác như kích thích hậu môn, chảy mủ và táo bón. Nếu áp-xe nằm sâu bên trong, có thể gây sốt, ớn lạnh hoặc khó chịu cho người bệnh. Tuy nhiên, nhiều trường hợp chỉ có biểu hết duy nhất là sốt. Chính vì vậy, rất khó để phát hiện chính xác bệnh qua cách thông thường, nên khi thấy có biểu hiện như trên hay một số triệu chứng khác không được đề cập trên đây, người bệnh cần tham khảo ý kiến bác sĩ ngay để được thăm khám và tư vấn kịp thời.",
         "no_information",
         "no_information",
         "Nếu được điều trị và chăm sóc phù hợp, người bệnh sẽ hoàn toàn được hồi phục trong một thời gian ngắn; Có chế độ sinh hoạt khoa học, lành mạnh; Vệ sinh vùng hậu môn sạch sẽ, khô thoáng; Sử dụng bao cao su khi quan hệ tình dục; Thay bỉm thường xuyên và vệ sinh đúng cách trong khi thay bỉm đối với trẻ nhỏ và bé tập đi.",
         "Chẩn đoán áp xe hậu môn thông thường nhất kiểm tra trực tràng kỹ thuật số để đánh giá lâm sàng (chụp đại tràng số hóa). Tuy nhiên, vẫn cần chỉ định một số xét nghiệm để sàng lọc, kiểm tra với một số trường hợp bệnh nhân khác: Các bệnh lây truyền qua đường tình dục Bệnh viêm ruột Bệnh túi thừa Ung thư trực tràng Ngoài ra có thể chỉ định người bệnh siêu âm, chụp CT hoặc chụp cộng hưởng từ để có thể chẩn đoán chính xác nhất và nhanh nhất.",
         "Khi khối mủ vùng hậu môn vỡ, người bệnh cần được phẫu thuật tháo mủ (có gây tê). Trường hợp nặng, người bệnh có thể phải nhập viện để gây mê phẫu thuật với trường hợp áp xe rộng và sâu. Sau phẫu thuật, người bệnh sẽ dùng thuốc giảm đau và kháng sinh. Kháng sinh không nhất thiết phải dùng, nhất là với những người thể trạng khỏe mạnh và sức đề kháng tốt. Kháng sinh nên dùng với trường hợp người bệnh bị tiểu đường hay suy giảm hệ miễn dịch. Người bệnh cần có thời gian để hồi phục sau phẫu thuật.  Dẫn lưu phẫu thuật là quan trọng, tốt nhất là trước khi áp xe xảy ra. Áp xe bề mặt hậu môn có thể được dẫn lưu sử dụng gây mê tại chỗ. Đôi khi, phẫu thuật rò hậu môn có thể được thực hiện từ 4 - 6 tuần sau khi áp xe được dẫn lưu. Lỗ rò có thể không xuất hiện nhiều tháng hoặc nhiều năm sau áp xe hậu môn. Vì vậy, phẫu thuật lỗ rò thường là một thủ thuật riêng biệt, có thể được thực hiện ở bệnh nhân ngoại trú hoặc nằm viện ngắn ngày. Lời khuyên cho người bệnh là ngâm vùng bị bệnh trong bồn tắm nước ấm 3-4 lần/ngày. Làm mềm phân được khuyến nghị để giảm khó chịu của nhu động ruột. Một số người bệnh được khuyên mang gạc hoặc miếng thấm nhỏ để ngăn dịch dẫn lưu làm bẩn quần áo. Các biến chứng sau phẫu thuật có thể bao gồm: Nhiễm trùng; Nứt hậu môn; Áp xe tái phát; Sẹo. Sau khi điều trị thành công bệnh áp xe hậu môn, để dự phòng tái phát cần tuân theo lời khuyên của bác sĩ. Khi phát hiện tình trạng áp xe hậu môn tái phát, bệnh nhân không nên quá lo lắng hoặc sợ hãi, bởi điều đó chỉ khiến bệnh trở nên nặng hơn. Điều đầu tiên bạn cần bình tĩnh và đến các cơ sở y tế chuyên khoa để được thăm khám và đưa ra cách giải quyết phù hợp. Người bệnh có thể đến các cơ sở y tế uy tín để khám chữa bệnh. Hiện nay, một số bệnh viện đã áp dụng phương pháp xâm lấn tối thiểu (HCPT) vào trong điều trị bệnh áp xe hậu môn rất hiệu quả. Phương pháp này được ưa chuộng vì có nhiều ưu điểm, cụ thể như việc không gây ảnh hưởng đến các tổ chức thần kinh xung quanh hậu môn, an toàn, không đau, không chảy máu và quan trọng là không tái phát. Kỹ thuật ra đời đã giúp cho người bệnh tránh được những rủi ro và đau đớn do phẫu thuật mang lại. Ngoài ra, trong quá trình điều trị, người bệnh nên tuân thủ các hướng dẫn chăm sóc của bác sĩ, có chế độ ăn uống, nghỉ ngơi, vận động hợp lý để tăng cường miễn dịch và tái khám theo lịch hẹn của bác sĩ. Theo đó, bệnh áp xe hậu môn sẽ được cải thiện một cách hiệu quả nhất.   Xem thêm: Cấu tạo của hậu môn Bệnh nứt hậu môn Bệnh rò hậu môn"
        ],
        [
         "3",
         "Áp xe phổi",
         "Bệnh áp xe phổi là bệnh lý nhiễm trùng tại phổi. Nhu mô phổi bị hoại tử do quá trình viêm nhiễm cấp tính trong các bệnh lý như viêm phổi, màng phổi, hình thành dịch mủ và các ổ áp xe chứa mủ, xác bạch cầu chết và các vi sinh vật gây bệnh. Vi khuẩn là nguyên nhân gây bệnh áp xe phổi phổ biến nhất, một tỷ lệ nhỏ các trường hợp do ký sinh trùng gây ra. Áp xe phổi được phân thành 2 loại:  Áp xe phổi nguyên phát: là sự hình thành các ổ nung mủ trên một phổi lành, chưa có tổn thương hay bệnh lý trước đây.  Áp xe phổi thứ phát: các ổ nung mủ được hình thành trên một phổi bệnh lý, tồn tại các tổn thương cũ như hang lao, giãn phế quản, nang phổi.    Bệnh áp xe phổi chiếm khoảng 4,8% trong tổng số tất cả các bệnh phổi. Đây là tình trạng bệnh lý có thể gặp ở mọi lứa tuổi, trong đó lứa tuổi trung niên chiếm tỷ lệ cao hơn. Nhờ vào sự phát triển của các phương tiện chẩn đoán hình ảnh, áp xe phổi được phát hiện sớm và chẩn đoán chắc chắn hơn. Áp xe phổi nếu không được điều trị sớm hoặc điều trị không đúng cách đều có khả năng gây ra nhiều biến chứng nguy hiểm như:  Ho ra máu: do tình trạng vỡ mạch máu, đặc biệt nghiêm trọng khi ổ áp xe ở gần rốn phổi. Nếu không được cấp cứu kịp thời có thể ảnh hưởng tới tính mạng.  Tràn mủ màng phổi: xảy ra khi ổ áp xe bị vỡ thông với màng phổi.  Nhiễm trùng máu: khi vi khuẩn trong ổ áp xe xâm nhập vào máu, gây sốc nhiễm trùng và có thể tử vong.  Ngoài ra, áp xe phổi còn gây ra những biến chứng khác như xơ phổi, giãn phế quản, áp xe não...",
         "Nguyên nhân gây bệnh áp xe phổi có thể chia thành các nhóm sau:  Nhiễm trùng: đây là nguyên nhân chiếm trong đa số các trường hợp áp xe phổi. Vi khuẩn, nấm và ký sinh trùng là các nguyên nhân gây viêm nhiễm hoại tử nhu mô phổi. Tác nhân gây bệnh thường theo đường khí - phế quản để vào phổi.  Vi khuẩn kỵ khí là nhóm vi khuẩn phổ biến nhất, không đòi hỏi môi trường nhiều oxy để sinh sôi phát triển, chiếm khoảng 89%, thường có nguồn gốc từ vùng răng miệng. Dịch mủ do vi khuẩn kỵ khí tạo ra đặc trưng bởi mùi hôi thối. Chúng có thể gây nên nhiều áp xe phổi lan tỏa, và thường kết hợp với các loại vi khuẩn khác như liên cầu, phế cầu... Một số loại vi khuẩn kỵ khí thường gặp là Bacteroide melaniogenicus, Bacteroide fragilis Peptococus, Peptostreptococcus, Fusobaterium nucleotum,...  Tụ cầu vàng: có tên gọi là staphylococcus aureus. Tụ cầu vàng gây ra bệnh cảnh lâm sàng khá nặng nề, tổn thương nhu mô phổi và cả màng phổi, gây suy hô hấp cấp tính và nhiễm trùng nhiễm độc. Tác nhân này thường gặp ở trẻ nhỏ.   Klebsiella Pneumoniae (Friedlander): lâm sàng tiến triển rất nhanh với ho ra máu. Bệnh có nguy cơ tử vong cao.  Một số vi khuẩn khác cũng có thể gây bệnh áp xe phổi như phế cầu, liên cầu tan máu nhóm A, các vi khuẩn Gram (-) như Pseudomonas aeruginosa, Legionella pneumophila, Hemophillus influenzae.  Ký sinh trùng: thường gặp nhất là amip thứ  phát sau áp xe gan, ruột. Áp xe thường gặp ở đáy phổi phải và kèm thương tổn phản ứng ở màng phổi. Bệnh nhân khạc đàm có màu nâu sẫm như sôcôla, kèm theo máu tươi.  Nấm thường gây bệnh áp xe phổi ở bệnh nhân mắc đái tháo đường, nghiện rượu hoặc suy giảm miễn dịch do nhiều nguyên nhân khác. Một số loại nấm gây bệnh như Mucoraceae, Aspergillus spp.  Dị vật: thức ăn, nước uống, các chất nôn hoặc nước bọt từ miệng được hít vào phổi gây viêm phổi hít, là tiền đề để hình thành áp xe phổi sau 7-14 ngày. Các dị vật vào phổi trong các bối cảnh bệnh nhân hôn mê, sặc, rối loạn phản xạ nuốt, trào ngược dạ dày thực quản, tắc nghẽn đường thở.  Bệnh lý nền tại phổi: đối với những bệnh nhân mắc các bệnh lý như u phổi gây tắc nghẽn, ung thư phổi gây bội nhiễm hay hoại tử, nhồi máu phổi, giãn phế quản, lao phổi có hang, kén phổi bẩm sinh, chấn thương lồng ngực hở,... Thì có nguy cơ bị áp xe phổi cao. Biểu hiện của áp xe phổi có thể khởi phát cùng lúc hoặc muộn hơn với biểu hiện của bệnh lý nền.",
         "Triệu chứng lâm sàng của bệnh áp xe phổi thường phát triển trong vòng nhiều tuần đến nhiều, được chia làm các giai đoạn sau:  tháng bao gồm: sốt, ớn lạnh, đổ mồ hôi, ho có mùi hôi và nước bọt có vị khó chịu. Bệnh nhân thường mệt mỏi, yếu ớt, chán ăn và sút cân.   Ổ mủ kín: ho khan, sốt cao, ớn lạnh, có thể lên đến 39-40 độ C, mệt mỏi, chán ăn, sụt cân. Bệnh nhân thường đau ngực ở vị trí có tổn thương, có thể có khó thở.  Ộc mủ:triệu chứng ho và đau ngực biểu hiện nặng nề hơn. Ho ộc ra nhiều mủ đặc quánh. Đặc điểm của mủ có thể gợi ý nguyên nhân gây bệnh: mủ màu sôcôla thường do amip, mủ hôi thối thường do vi khuẩn kỵ khí, mủ màu xanh thường do liên cầu. Toàn thân mệt mỏi, vã mồ hôi. Sau khi ho ộc ra được mủ, toàn trạng cải thiện, người bệnh cảm thấy dễ chịu hơn, ăn uống được.    Ổ mủ mở thông với phế quản: người Bệnh vẫn tiếp tục ho, nhất là khi thay đổi tư thế, khạc mủ ra ít hơn.",
         "Áp xe phổi có lây không? Áp xe phổi có thể lây truyền từ người bệnh sang người lành nếu tác nhân gây bệnh trong ổ áp xe lây lan ra môi trường bên ngoài. Các đường lây truyền bệnh có thể gặp:  Đường khí - phế quản: người bệnh hít vi khuẩn vào phổi từ không khí, từ các chất tiết nhiễm trùng ở mũi họng, răng miệng, các thủ thuật phẫu thuật ở tai mũi họng, dị vật đường thở, đặt nội khí quản, trào ngược dạ dày...  Đường máu: các bệnh lý viêm nội tâm mạc, viêm tĩnh mạch, gây thuyên tắc, nhồi  máu và nhiễm trùng huyết, có thể gây áp xe ở cả hai phổi.  Đường kế cận: áp xe dưới cơ hoành, áp xe gan do amip, áp xe đường mật, áp xe trung thất, áp xe thực quản,... Khi vỡ có thể gây áp xe phổi.",
         "Các yếu tố làm tăng nguy cơ mắc bệnh áp xe phổi bao gồm:  Tuổi tác: những người lớn trên 60 tuổi có nguy cơ mắc bệnh cao hơn.  Nghiện rượu, thuốc lá, sử dụng ma túy.  Tổng trạng suy kiệt, mệt mỏi, suy dinh dưỡng.  Mắc bệnh đái tháo đường và các bệnh phổi mãn tính khác như u phổi, ung thư phổi, giãn phế quản, lao phổi, kén phổi bẩm sinh, thuyên tắc phổi.  Cơ địa suy giảm miễn dịch  Sau gây mê, đặt nội khí quản, lưu đường truyền tĩnh mạch lâu ngày.  Sau phẫu thuật vùng răng hàm mặt, tai mũi họng.  Chấn thương ngực hở, có dị vật kèm theo.  Khó nuốt, rối loạn chức năng hầu họng.",
         "Các biện pháp giúp phòng ngừa và hạn chế diễn tiến của áp xe phổi:  Vệ sinh răng miệng, mũi, họng sạch sẽ.  Tuân thủ tốt hướng dẫn của bác sĩ để Điều trị dứt điểm các bệnh lý nhiễm khuẩn vùng răng miệng, tai mũi họng.  Phòng ngừa dị vật rơi vào cổ  Cẩn thận khi cho người bệnh ăn thông qua ống sonde dạ dày  Ăn uống đầy đủ chất dinh dưỡng, bổ sung nhiều rau xanh và hoa quả chứa nhiều vitamin C.  Khi gặp bất kỳ triệu chứng bất thường như đau ngực, ho, cần đến ngay các cơ sở y tế để được khám và điều trị kịp thời.",
         "Việc chẩn đoán áp xe phổi cần phối hợp giữa các triệu chứng lâm sàng gợi ý như sốt cao, rét run, đau ngực cùng bên tổn thương, ho khạc đờm mủ,.. Kết hợp với các xét nghiệm cận lâm sàng và phương tiện chẩn đoán hình ảnh sau:  Công thức máu: bạch cầu tăng ưu thế bạch cầu trung tính  Tốc độ lắng máu tăng  Cấy đờm, dịch hút từ phế quản để định danh vi khuẩn gây bệnh và làm kháng sinh đồ.  Xquang phổi: hình ảnh điển hình của áp xe phổi là dạng hình tròn có bờ không đều, khá dày và có mức hơi dịch bên trong. Cần chụp phim nghiêng để xác định chính xác vị trí ổ áp xe. Có trường hợp ghi nhận dày dính màng phổi nếu ổ áp xe vỡ vào màng phổi gây mủ màng phổi.  Ct scan phổi: cho hình ảnh đặc hiểu hên Xquang phổi.",
         "Điều trị bệnh áp xe phổi cần sự phối hợp của nhiều biện pháp. Nguyên tắc điều trị cần được tuân thủ, bao gồm:  Điều trị nội khoa với kháng sinh kịp thời, tích cực, kiên trì. Thay đổi kháng sinh dựa theo lâm sàng và kháng sinh đồ. Kháng sinh thường được dùng kết hợp ít nhất từ 2 kháng sinh trở lên theo đường tiêm bắp hoặc tĩnh mạch. Thời gian sử dụng kháng sinh ít nhất 4 tuần.  Chỉ định mổ sớm trước khi biến chứng như ho ra máu nặng, viêm mủ màng phổi,… xảy ra.  Điều trị áp xe phổi bằng thuốc Thuốc kháng sinh được chỉ định điều trị theo kinh nghiệm đối với từng tác nhân. Sau đó, việc lựa chọn thuốc được thay đổi theo đáp ứng lâm sàng của người bệnh và kết quả kháng sinh đồ. Điều trị áp xe phổi bằng can thiệp  Dẫn lưu ổ áp xe: dựa vào phim chụp X quang phổi thẳng, nghiêng hoặc Ctscan xác định vị trí ổ áp xe và chọn tư thế bệnh nhân phù hợp để dẫn lưu và vỗ rung lồng ngực. Dẫn lưu tư thế thực hiện nhiều lần trong ngày, lúc đầu trong khoảng vài phút, sau kéo dài dần thời gian và kết hợp với vỗ rung lồng ngực. Vỗ rung mỗi ngày 2-3 lần, lúc đầu 5 phút sau tăng dần đến 10-20 phút.  Có thể dùng ống soi phế quản để hút mủ ở phế quản dẫn lưu ổ áp xe. Nội Soi phế quản ống mềm còn giúp phát hiện các tổn thương kèm theo như u, dị vật gây tắc nghẽn phế quản.  Chọc dẫn lưu mủ qua da áp dụng đối với những ổ áp xe phổi ở ngoại vi, sát thành ngực, ổ áp xe không thông với phế quản. Việc chọc dẫn lưu mủ qua da có thể được thực hiện dưới sự hướng dẫn của siêu âm thành ngực.  Phẫu thuật  Phẫu thuật cắt phân thuỳ phổi hoặc cả một bên phổi tuỳ theo mức độ trong các trường hợp sau:  Ổ áp xe > 10cm.  Áp xe phổi mạn tính điều trị nội khoa 3 tháng không có kết quả.  Ho ra máu tái phát, liên tiếp nhiều lần, ho máu sét đánh, đe dọa tính mạng.  Áp xe phối hợp với giãn phế quản khu trú nặng.  Có biến chứng rò phế quản - khoang màng phổi.  Bệnh lý nền nghi ngờ u phổi, ung thư phổi  Điều trị hỗ trợ  Chế độ ăn: đảm bảo đầy đủ chất dinh dưỡng và năng lượng, cung cấp nhiều protein và vitamin.  Duy trì cân bằng nước và điện giải, cân bằng toan kiềm  Giảm đau, hạ sốt  Thở oxy: cung lượng cao khoảng 6 lít/phút trong suy hô hấp cấp. Nếu có suy hô hấp mạn thì thở oxy với cung lượng thấp hơn, khoảng 2 lít/phút.    Xem thêm: Viêm phổi ở trẻ sơ sinh có nguy hiểm không? Phổi người nặng bao nhiêu? Tràn dịch màng phổi: Nguyên nhân, triệu chứng, chẩn đoán và điều trị"
        ],
        [
         "4",
         "Alzheimer",
         "Bệnh Alzheimer là một trong những căn bệnh về não gây ảnh hưởng đến suy nghĩ, hành vi và trí nhớ của người bệnh. Đây không phải là căn bệnh lão khoa hoặc bệnh thần kinh thông thường. Bệnh Alzheimer gây ảnh hưởng không chỉ đối với người bệnh mà còn tác động đến cả người đi chăm sóc bệnh nhân bởi lẽ chăm sóc bệnh nhân Alzheimer rất dễ dẫn đến trầm cảm hoặc có cảm xúc vô cùng căng thẳng. Hiện nay, bệnh Alzheimer ở Việt Nam đã ảnh hưởng ngày càng nhiều trong giới trẻ. Vậy bệnh Alzheimer là gì? Nguyên nhân bệnh alzheimer, phòng ngừa bệnh alzheimer như thế nào?",
         "Hiện nay vẫn chưa xác định nguyên nhân gây ra bệnh alzheimer cụ thể như thế nào, các nhà khoa học chỉ có thể xác định, khi bị bệnh alzheimer là lúc các tế bào não lưu trữ và xử lý thông tin bắt đầu bị suy yếu và chết. Ngoài ra, các protein bất thường được sản sinh ra, tạo nên những mảng bám và tích tụ quanh và bên trong các tế bào gây cản trở đến quá trình truyền tải thông tin.",
         "Bệnh alzheimer có các dấu hiệu, triệu chứng bệnh như sau: Triệu chứng đầu tiên là đãng trí, bị quên tên hoặc nơi vừa đặt đồ vật, hay còn gọi là bệnh mất trí nhớ alzheimer Trí nhớ và tư duy bất thường, có thể quên tên người quen, hỏi cùng một câu hỏi, kể cùng một câu chuyện nhiều lần, khó khăn trong ghi nhớ mọi thứ trong cuộc sống. Ở những giai đoạn sau, người bệnh sẽ cần giúp đỡ nhiều hơn từ người xung quanh và cần có một chế độ chăm sóc đặc biệt toàn diện bởi lẽ bệnh nhân bị Alzheimer giai đoạn cuối thường đi lang thang hoăc bị lạc, thay đổi tính cách cảm xúc. Khi có bất kỳ các dấu hiệu bất thường trên, cần kịp thời đến cơ sở y tế để được kịp thời phát hiện bệnh và có phương pháp điều trị kịp thời, tránh những tình huống xấu xảy ra.",
         "no_information",
         "Là một căn bệnh khá phổ biến, bệnh alzheimer thường thấy ở những người cao tuổi. Một bộ phận những người có rối loạn não bẩm sinh hoặc bị chấn thương cũng có nguy cơ cao bị bệnh. Hiện nay, một bộ phận giới trẻ cũng đang bị đe dọa bởi bệnh Alzheimer. Những yếu tố sau sẽ làm tăng nguy cơ mắc bệnh Alzheimer: Tuổi tác: những người cao tuổi, đặc biệt sau 65 tuổi sẽ có nguy cơ cao mắc bệnh alzheimer; Gia đình có người từng có tiền sử mắc bệnh Alzheimer. Các nhà khoa học đã nghiên cứu và chứng minh gen làm tăng nguy cơ mắc bệnh Alzheimer nhưng không chứng minh chắc chắn rằng cá thể mang gen đó sẽ tiến triển thành bệnh Những người có tiền căn chấn thương đầu hoặc bị suy giảm nhận thức nhẹ; Những người có lối sống không khoa học như: sử dụng các chất kích thích, chế độ ăn thiếu rau xanh và trái cây, ít vận động;  Những người trong quá trình học tập và giao tiếp gặp một số vấn đề về mức độ giáo dục chính quy thấp, công việc thiếu các hoạt động cần thử thách trí não hoặc ít giao tiếp xã hội. Trong các nguy cơ trên, yếu tố nguy cơ được nhắc đến nhiều nhất là tuổi tác. Bệnh Alzheimer ở người cao tuổi trở nên rất phổ biến",
         "Để phòng ngừa bệnh Alzheimer, có thể áp dụng các biện pháp sau: Để hạn chế diễn tiến nguy hiểm của bệnh Alzheimer, cần duy trì những thói quen sinh hoạt như: tìm người hỗ trợ và chăm sóc; thay đổi không gian sống, đơn giản hóa thói quen hàng ngày; nghĩ tích cực về bệnh; tích cực tham gia các hoạt động xã hội, vận động về thể chất và tinh thần.",
         "Để chuẩn đoán bệnh nhân có bị bệnh Alzheimer không, trước hết bác sĩ sử dụng phương pháp kiểm tra sức khỏe tổng quát, tiền sử mắc bệnh và trí năng của bệnh nhân. Sau đó thông qua các biện pháp kiểm tra khả năng lý luận, phối hợp tay và mắt, khả năng cân bằng, cảm nhận cảm giác để xác định tình trạng bệnh Alzheimer. Kiểm tra dấu hiệu trầm cảm để xác định mức độ nghiêm trọng của bệnh; Để tìm kiếm chính xác các nguyên nhân gây bệnh, bác sĩ sẽ sử dụng thủ thuật quét não và xét nghiệm máu để xác định các nguyên nhân suy giáp hay thiếu vitamin B12.",
         "Hiện nay, vẫn chưa có phương pháp để điều trị triệt để bệnh Alzheimer. Các phương pháp để hạn chế nguy cơ, tiến triển của bệnh như: sử dụng thuốc ức chế cholinesterase và memantine. Ngoài ra có thể sử dụng thuốc để giảm lo âu, trầm cảm, kích động và các vấn đề về hành vi như thuốc an thần. Để có thể hạn chế mức độ tiến triển của bệnh cần cố gắng không thay đổi môi trường sống của bệnh nhân bởi lẽ bệnh nhân bị bệnh Alzheimer sẽ gặp rất nhiều khó khăn để thích nghi với sự thay đổi môi trường sống. Xem thêm: Nhận diện bệnh alzheimer qua biểu hiện cơ thể Chẩn đoán và điều trị bệnh sa sút trí tuệ ở người cao tuổi Bệnh sa sút trí tuệ (Dementia): Nguyên nhân, triệu chứng, chẩn đoán và điều trị"
        ]
       ],
       "shape": {
        "columns": 9,
        "rows": 5
       }
      },
      "text/html": [
       "<div>\n",
       "<style scoped>\n",
       "    .dataframe tbody tr th:only-of-type {\n",
       "        vertical-align: middle;\n",
       "    }\n",
       "\n",
       "    .dataframe tbody tr th {\n",
       "        vertical-align: top;\n",
       "    }\n",
       "\n",
       "    .dataframe thead th {\n",
       "        text-align: right;\n",
       "    }\n",
       "</style>\n",
       "<table border=\"1\" class=\"dataframe\">\n",
       "  <thead>\n",
       "    <tr style=\"text-align: right;\">\n",
       "      <th></th>\n",
       "      <th>name</th>\n",
       "      <th>description</th>\n",
       "      <th>causes</th>\n",
       "      <th>symptoms</th>\n",
       "      <th>contagion</th>\n",
       "      <th>risk_subjects</th>\n",
       "      <th>prevention</th>\n",
       "      <th>diagnosis</th>\n",
       "      <th>treatment</th>\n",
       "    </tr>\n",
       "  </thead>\n",
       "  <tbody>\n",
       "    <tr>\n",
       "      <th>0</th>\n",
       "      <td>Áp xe</td>\n",
       "      <td>Áp xe là gì? Áp xe là tên gọi của một tổ chức ...</td>\n",
       "      <td>Nhiễm trùng là nguyên nhân trực tiếp phổ biến ...</td>\n",
       "      <td>Biểu hiện lâm sàng của áp xe khá đặc hiệu, bao...</td>\n",
       "      <td>Áp xe có thể được lây truyền do tác nhân gây b...</td>\n",
       "      <td>Những người có các đặc điểm sau có khả năng hì...</td>\n",
       "      <td>Áp xe có thể được phòng ngừa bằng các biện phá...</td>\n",
       "      <td>Chẩn đoán áp xe mô dưới da thường được thực hi...</td>\n",
       "      <td>Một tổ chức áp xe nếu không được điều trị sẽ t...</td>\n",
       "    </tr>\n",
       "    <tr>\n",
       "      <th>1</th>\n",
       "      <td>Áp xe vú</td>\n",
       "      <td>Áp xe vú là tình trạng viêm, sưng đỏ, có hạch ...</td>\n",
       "      <td>Nguyên nhân áp xe vú thường gặp nhất là do hai...</td>\n",
       "      <td>Dấu hiệu áp xe vú phụ thuộc vào vị trí bị áp x...</td>\n",
       "      <td>no_information</td>\n",
       "      <td>Có từ 10-30% phụ nữ sau khi mang thai và cho c...</td>\n",
       "      <td>Biện pháp để phòng ngừa áp xe vú cần chú ý: Gi...</td>\n",
       "      <td>Chẩn đoán áp xe vú thông qua các dấu hiệu áp x...</td>\n",
       "      <td>Điều trị áp xe vú có thể sử dụng thuốc và chíc...</td>\n",
       "    </tr>\n",
       "    <tr>\n",
       "      <th>2</th>\n",
       "      <td>Áp xe hậu môn</td>\n",
       "      <td>Áp xe hậu môn là tình trạng mưng mủ ở gần khu ...</td>\n",
       "      <td>Có rất nhiều nguyên nhân dẫn đến áp xe hậu môn...</td>\n",
       "      <td>Triệu chứng phổ biến nhất của áp-xe hậu môn là...</td>\n",
       "      <td>no_information</td>\n",
       "      <td>no_information</td>\n",
       "      <td>Nếu được điều trị và chăm sóc phù hợp, người b...</td>\n",
       "      <td>Chẩn đoán áp xe hậu môn thông thường nhất kiểm...</td>\n",
       "      <td>Khi khối mủ vùng hậu môn vỡ, người bệnh cần đư...</td>\n",
       "    </tr>\n",
       "    <tr>\n",
       "      <th>3</th>\n",
       "      <td>Áp xe phổi</td>\n",
       "      <td>Bệnh áp xe phổi là bệnh lý nhiễm trùng tại phổ...</td>\n",
       "      <td>Nguyên nhân gây bệnh áp xe phổi có thể chia th...</td>\n",
       "      <td>Triệu chứng lâm sàng của bệnh áp xe phổi thườn...</td>\n",
       "      <td>Áp xe phổi có lây không? Áp xe phổi có thể lây...</td>\n",
       "      <td>Các yếu tố làm tăng nguy cơ mắc bệnh áp xe phổ...</td>\n",
       "      <td>Các biện pháp giúp phòng ngừa và hạn chế diễn ...</td>\n",
       "      <td>Việc chẩn đoán áp xe phổi cần phối hợp giữa cá...</td>\n",
       "      <td>Điều trị bệnh áp xe phổi cần sự phối hợp của n...</td>\n",
       "    </tr>\n",
       "    <tr>\n",
       "      <th>4</th>\n",
       "      <td>Alzheimer</td>\n",
       "      <td>Bệnh Alzheimer là một trong những căn bệnh về ...</td>\n",
       "      <td>Hiện nay vẫn chưa xác định nguyên nhân gây ra ...</td>\n",
       "      <td>Bệnh alzheimer có các dấu hiệu, triệu chứng bệ...</td>\n",
       "      <td>no_information</td>\n",
       "      <td>Là một căn bệnh khá phổ biến, bệnh alzheimer t...</td>\n",
       "      <td>Để phòng ngừa bệnh Alzheimer, có thể áp dụng c...</td>\n",
       "      <td>Để chuẩn đoán bệnh nhân có bị bệnh Alzheimer k...</td>\n",
       "      <td>Hiện nay, vẫn chưa có phương pháp để điều trị ...</td>\n",
       "    </tr>\n",
       "  </tbody>\n",
       "</table>\n",
       "</div>"
      ],
      "text/plain": [
       "            name                                        description  \\\n",
       "0          Áp xe  Áp xe là gì? Áp xe là tên gọi của một tổ chức ...   \n",
       "1       Áp xe vú  Áp xe vú là tình trạng viêm, sưng đỏ, có hạch ...   \n",
       "2  Áp xe hậu môn  Áp xe hậu môn là tình trạng mưng mủ ở gần khu ...   \n",
       "3     Áp xe phổi  Bệnh áp xe phổi là bệnh lý nhiễm trùng tại phổ...   \n",
       "4      Alzheimer  Bệnh Alzheimer là một trong những căn bệnh về ...   \n",
       "\n",
       "                                              causes  \\\n",
       "0  Nhiễm trùng là nguyên nhân trực tiếp phổ biến ...   \n",
       "1  Nguyên nhân áp xe vú thường gặp nhất là do hai...   \n",
       "2  Có rất nhiều nguyên nhân dẫn đến áp xe hậu môn...   \n",
       "3  Nguyên nhân gây bệnh áp xe phổi có thể chia th...   \n",
       "4  Hiện nay vẫn chưa xác định nguyên nhân gây ra ...   \n",
       "\n",
       "                                            symptoms  \\\n",
       "0  Biểu hiện lâm sàng của áp xe khá đặc hiệu, bao...   \n",
       "1  Dấu hiệu áp xe vú phụ thuộc vào vị trí bị áp x...   \n",
       "2  Triệu chứng phổ biến nhất của áp-xe hậu môn là...   \n",
       "3  Triệu chứng lâm sàng của bệnh áp xe phổi thườn...   \n",
       "4  Bệnh alzheimer có các dấu hiệu, triệu chứng bệ...   \n",
       "\n",
       "                                           contagion  \\\n",
       "0  Áp xe có thể được lây truyền do tác nhân gây b...   \n",
       "1                                     no_information   \n",
       "2                                     no_information   \n",
       "3  Áp xe phổi có lây không? Áp xe phổi có thể lây...   \n",
       "4                                     no_information   \n",
       "\n",
       "                                       risk_subjects  \\\n",
       "0  Những người có các đặc điểm sau có khả năng hì...   \n",
       "1  Có từ 10-30% phụ nữ sau khi mang thai và cho c...   \n",
       "2                                     no_information   \n",
       "3  Các yếu tố làm tăng nguy cơ mắc bệnh áp xe phổ...   \n",
       "4  Là một căn bệnh khá phổ biến, bệnh alzheimer t...   \n",
       "\n",
       "                                          prevention  \\\n",
       "0  Áp xe có thể được phòng ngừa bằng các biện phá...   \n",
       "1  Biện pháp để phòng ngừa áp xe vú cần chú ý: Gi...   \n",
       "2  Nếu được điều trị và chăm sóc phù hợp, người b...   \n",
       "3  Các biện pháp giúp phòng ngừa và hạn chế diễn ...   \n",
       "4  Để phòng ngừa bệnh Alzheimer, có thể áp dụng c...   \n",
       "\n",
       "                                           diagnosis  \\\n",
       "0  Chẩn đoán áp xe mô dưới da thường được thực hi...   \n",
       "1  Chẩn đoán áp xe vú thông qua các dấu hiệu áp x...   \n",
       "2  Chẩn đoán áp xe hậu môn thông thường nhất kiểm...   \n",
       "3  Việc chẩn đoán áp xe phổi cần phối hợp giữa cá...   \n",
       "4  Để chuẩn đoán bệnh nhân có bị bệnh Alzheimer k...   \n",
       "\n",
       "                                           treatment  \n",
       "0  Một tổ chức áp xe nếu không được điều trị sẽ t...  \n",
       "1  Điều trị áp xe vú có thể sử dụng thuốc và chíc...  \n",
       "2  Khi khối mủ vùng hậu môn vỡ, người bệnh cần đư...  \n",
       "3  Điều trị bệnh áp xe phổi cần sự phối hợp của n...  \n",
       "4  Hiện nay, vẫn chưa có phương pháp để điều trị ...  "
      ]
     },
     "execution_count": 2,
     "metadata": {},
     "output_type": "execute_result"
    }
   ],
   "source": [
    "# Bước 1: Đọc dữ liệu từ CSV\n",
    "import pandas as pd\n",
    "\n",
    "file_path = 'Vinmec_diseases_information.csv'\n",
    "df = pd.read_csv(file_path)\n",
    "df = df.dropna(subset=['name'])\n",
    "df.head()"
   ]
  },
  {
   "cell_type": "code",
   "execution_count": 3,
   "id": "89fb0953",
   "metadata": {},
   "outputs": [],
   "source": [
    "# Bước 2: Thiết lập các mẫu câu hỏi và nhãn loại câu hỏi\n",
    "question_templates = {\n",
    "    'description': ('Bệnh {name} là gì?', 'definition'),\n",
    "    'symptoms': ('Triệu chứng của bệnh {name} là gì?', 'symptoms'),\n",
    "    'causes': ('Nguyên nhân gây ra bệnh {name} là gì?', 'cause'),\n",
    "    'contagion': ('Bệnh {name} có lây không?', 'contagion'),\n",
    "    'risk_subjects': ('Ai có nguy cơ mắc bệnh {name}?', 'risk'),\n",
    "    'prevention': ('Làm sao để phòng bệnh {name}?', 'prevention')\n",
    "}"
   ]
  },
  {
   "cell_type": "code",
   "execution_count": 4,
   "id": "92975e93",
   "metadata": {},
   "outputs": [
    {
     "name": "stdout",
     "output_type": "stream",
     "text": [
      "✅ Sinh được 3497 dòng dữ liệu hỏi đáp.\n"
     ]
    }
   ],
   "source": [
    "# Bước 3: Sinh tập dữ liệu theo định dạng ViMQ\n",
    "viMQ_data = []\n",
    "\n",
    "for _, row in df.iterrows():\n",
    "    name = row['name']\n",
    "    name_tokens = name.strip().split()\n",
    "\n",
    "    for col, (template, sent_label) in question_templates.items():\n",
    "        if col in row and isinstance(row[col], str) and row[col].strip().lower() != 'no_information':\n",
    "            sentence = template.format(name=name).strip()\n",
    "            tokens = sentence.split()\n",
    "            try:\n",
    "                start_idx = tokens.index(name_tokens[0])\n",
    "                end_idx = start_idx + len(name_tokens) - 1\n",
    "                viMQ_data.append({\n",
    "                    'sentence': sentence,\n",
    "                    'seq_label': [[start_idx, end_idx, 'SYMPTOM_AND_DISEASE']],\n",
    "                    'sent_label': sent_label\n",
    "                })\n",
    "            except ValueError:\n",
    "                continue\n",
    "\n",
    "print(f'✅ Sinh được {len(viMQ_data)} dòng dữ liệu hỏi đáp.')"
   ]
  },
  {
   "cell_type": "code",
   "execution_count": 5,
   "id": "66000946",
   "metadata": {},
   "outputs": [
    {
     "name": "stdout",
     "output_type": "stream",
     "text": [
      "✅ Đã lưu file: vinmec_vimq_full.json\n"
     ]
    }
   ],
   "source": [
    "# Bước 4: Xuất ra file JSON\n",
    "import json\n",
    "\n",
    "output_path = 'vinmec_vimq_full.json'\n",
    "with open(output_path, 'w', encoding='utf-8') as f:\n",
    "    json.dump(viMQ_data, f, ensure_ascii=False, indent=2)\n",
    "\n",
    "print(f'✅ Đã lưu file: {output_path}')"
   ]
  }
 ],
 "metadata": {
  "kernelspec": {
   "display_name": "Python 3",
   "language": "python",
   "name": "python3"
  },
  "language_info": {
   "codemirror_mode": {
    "name": "ipython",
    "version": 3
   },
   "file_extension": ".py",
   "mimetype": "text/x-python",
   "name": "python",
   "nbconvert_exporter": "python",
   "pygments_lexer": "ipython3",
   "version": "3.10.10"
  }
 },
 "nbformat": 4,
 "nbformat_minor": 5
}
